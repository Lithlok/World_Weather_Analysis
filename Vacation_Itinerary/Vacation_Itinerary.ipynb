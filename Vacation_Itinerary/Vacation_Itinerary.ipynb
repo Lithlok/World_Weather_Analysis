{
 "cells": [
  {
   "cell_type": "markdown",
   "metadata": {},
   "source": [
    "## Deliverable 3. Create a Travel Itinerary Map."
   ]
  },
  {
   "cell_type": "code",
   "execution_count": 1,
   "metadata": {},
   "outputs": [],
   "source": [
    "# Dependencies and Setup\n",
    "import pandas as pd\n",
    "import requests\n",
    "import gmaps\n",
    "\n",
    "# Import API key\n",
    "from config import g_key\n",
    "\n",
    "# Configure gmaps\n",
    "gmaps.configure(api_key=g_key)"
   ]
  },
  {
   "cell_type": "code",
   "execution_count": 3,
   "metadata": {},
   "outputs": [
    {
     "output_type": "execute_result",
     "data": {
      "text/plain": [
       "   City_ID            City Country  Max Temp Current Description      Lat  \\\n",
       "0        1      Butaritari      KI     83.59           clear sky   3.0707   \n",
       "1        3  Ribeira Grande      PT     75.60    scattered clouds  38.5167   \n",
       "2        6        Souillac      MU     75.58    scattered clouds -20.5167   \n",
       "3        7           Kapaa      US     79.12          light rain  22.0752   \n",
       "4       13       Berezovyy      RU     76.55          few clouds  51.6667   \n",
       "\n",
       "        Lng                           Hotel Name  \n",
       "0  172.7902                   Isles Sunset Lodge  \n",
       "1  -28.7000                  Quinta da Meia Eira  \n",
       "2   57.5167          Shanti Maurice Resort & Spa  \n",
       "3 -159.3190  Sheraton Kauai Coconut Beach Resort  \n",
       "4  135.7000                      Hotel \"Phoenix\"  "
      ],
      "text/html": "<div>\n<style scoped>\n    .dataframe tbody tr th:only-of-type {\n        vertical-align: middle;\n    }\n\n    .dataframe tbody tr th {\n        vertical-align: top;\n    }\n\n    .dataframe thead th {\n        text-align: right;\n    }\n</style>\n<table border=\"1\" class=\"dataframe\">\n  <thead>\n    <tr style=\"text-align: right;\">\n      <th></th>\n      <th>City_ID</th>\n      <th>City</th>\n      <th>Country</th>\n      <th>Max Temp</th>\n      <th>Current Description</th>\n      <th>Lat</th>\n      <th>Lng</th>\n      <th>Hotel Name</th>\n    </tr>\n  </thead>\n  <tbody>\n    <tr>\n      <th>0</th>\n      <td>1</td>\n      <td>Butaritari</td>\n      <td>KI</td>\n      <td>83.59</td>\n      <td>clear sky</td>\n      <td>3.0707</td>\n      <td>172.7902</td>\n      <td>Isles Sunset Lodge</td>\n    </tr>\n    <tr>\n      <th>1</th>\n      <td>3</td>\n      <td>Ribeira Grande</td>\n      <td>PT</td>\n      <td>75.60</td>\n      <td>scattered clouds</td>\n      <td>38.5167</td>\n      <td>-28.7000</td>\n      <td>Quinta da Meia Eira</td>\n    </tr>\n    <tr>\n      <th>2</th>\n      <td>6</td>\n      <td>Souillac</td>\n      <td>MU</td>\n      <td>75.58</td>\n      <td>scattered clouds</td>\n      <td>-20.5167</td>\n      <td>57.5167</td>\n      <td>Shanti Maurice Resort &amp; Spa</td>\n    </tr>\n    <tr>\n      <th>3</th>\n      <td>7</td>\n      <td>Kapaa</td>\n      <td>US</td>\n      <td>79.12</td>\n      <td>light rain</td>\n      <td>22.0752</td>\n      <td>-159.3190</td>\n      <td>Sheraton Kauai Coconut Beach Resort</td>\n    </tr>\n    <tr>\n      <th>4</th>\n      <td>13</td>\n      <td>Berezovyy</td>\n      <td>RU</td>\n      <td>76.55</td>\n      <td>few clouds</td>\n      <td>51.6667</td>\n      <td>135.7000</td>\n      <td>Hotel \"Phoenix\"</td>\n    </tr>\n  </tbody>\n</table>\n</div>"
     },
     "metadata": {},
     "execution_count": 3
    }
   ],
   "source": [
    "# 1. Read the WeatherPy_vacation.csv into a DataFrame.\n",
    "vacation_df = pd.read_csv(\"../Vacation_Search/WeatherPy_vacation.csv\")\n",
    "vacation_df.head()"
   ]
  },
  {
   "cell_type": "code",
   "execution_count": 5,
   "metadata": {},
   "outputs": [],
   "source": [
    "# 2. Using the template add the city name, the country code, the weather description and maximum temperature for the city.\n",
    "info_box_template = \"\"\"\n",
    "<dl>\n",
    "<dt>Current Description</dt><dd>{Current Description}</dd>\n",
    "<dt>City</dt><dd>{City}</dd>\n",
    "<dt>Country</dt><dd>{Country}</dd>\n",
    "<dt>Max Temp</dt><dd>{Max Temp}</dd>\n",
    "</dl>\n",
    "\"\"\"\n",
    "\n",
    "# 3a. Get the data from each row and add it to the formatting template and store the data in a list.\n",
    "hotel_info = [info_box_template.format(**row) for index, row in vacation_df.iterrows()]\n",
    "\n",
    "# 3b. Get the latitude and longitude from each row and store in a new DataFrame.\n",
    "locations = vacation_df[[\"Lat\", \"Lng\"]]"
   ]
  },
  {
   "cell_type": "code",
   "execution_count": 6,
   "metadata": {},
   "outputs": [
    {
     "output_type": "display_data",
     "data": {
      "text/plain": "Figure(layout=FigureLayout(height='420px'))",
      "application/vnd.jupyter.widget-view+json": {
       "version_major": 2,
       "version_minor": 0,
       "model_id": "c8b8f9e5a2244811ac8e334bd42c3662"
      }
     },
     "metadata": {}
    }
   ],
   "source": [
    "# 4a. Add a marker layer for each city to the map.\n",
    "locations = vacation_df[[\"Lat\", \"Lng\"]]\n",
    "fig = gmaps.figure(center=(30.0, 31.0), zoom_level=1.5)\n",
    "marker_layer = gmaps.marker_layer(locations, info_box_content=hotel_info)\n",
    "fig.add_layer(marker_layer)\n",
    "# 4b. Display the figure\n",
    "fig\n"
   ]
  },
  {
   "cell_type": "code",
   "execution_count": 29,
   "metadata": {},
   "outputs": [],
   "source": [
    "# From the map above pick 4 cities and create a vacation itinerary route to travel between the four cities. \n",
    "# 5. Create DataFrames for each city by filtering the 'vacation_df' using the loc method. \n",
    "# Hint: The starting and ending city should be the same city.\n",
    "\n",
    "vacation_start = vacation_df.loc[vacation_df['City'] =='Lebanon']\n",
    "vacation_end = vacation_df.loc[vacation_df['City'] == 'Lebanon']\n",
    "vacation_stop1 = vacation_df.loc[vacation_df['City'] == 'Riverton']\n",
    "vacation_stop2 = vacation_df.loc[vacation_df['City'] == 'Pahrump'] \n",
    "vacation_stop3 = vacation_df.loc[vacation_df['City'] == 'Butte'] \n",
    "# vacation_stop1"
   ]
  },
  {
   "cell_type": "code",
   "execution_count": 31,
   "metadata": {},
   "outputs": [],
   "source": [
    "# 6. Get the latitude-longitude pairs as tuples from each city DataFrame using the to_numpy function and list indexing.\n",
    "start = vacation_start.iloc[0,5:7].to_numpy()\n",
    "end = vacation_end.iloc[0,5:7].to_numpy()\n",
    "stop1 = vacation_stop1.iloc[0,5:7].to_numpy()\n",
    "stop2 = vacation_stop2.iloc[0,5:7].to_numpy()\n",
    "stop3 = vacation_stop3.iloc[0,5:7].to_numpy()"
   ]
  },
  {
   "cell_type": "code",
   "execution_count": 38,
   "metadata": {
    "scrolled": true
   },
   "outputs": [
    {
     "output_type": "display_data",
     "data": {
      "text/plain": "Figure(layout=FigureLayout(height='420px'))",
      "application/vnd.jupyter.widget-view+json": {
       "version_major": 2,
       "version_minor": 0,
       "model_id": "5354943f11e54ee7984533124625f126"
      }
     },
     "metadata": {}
    }
   ],
   "source": [
    "# 7. Create a direction layer map using the start and end latitude-longitude pairs,\n",
    "# and stop1, stop2, and stop3 as the waypoints. The travel_mode should be \"DRIVING\", \"BICYCLING\", or \"WALKING\".\n",
    "fig  = gmaps.figure(center=(50, -100),zoom_level = 5)\n",
    "lebanon = start\n",
    "riverton = stop1\n",
    "pahrump = stop2\n",
    "butte = stop3\n",
    "roadtrip = gmaps.directions_layer(lebanon,lebanon, \n",
    "                                  waypoints= [riverton, pahrump, butte], \n",
    "                                  travel_mode= \"DRIVING\")\n",
    "fig.add_layer(roadtrip)\n",
    "fig"
   ]
  },
  {
   "cell_type": "code",
   "execution_count": 47,
   "metadata": {},
   "outputs": [
    {
     "output_type": "execute_result",
     "data": {
      "text/plain": [
       "   City_ID      City Country  Max Temp Current Description      Lat       Lng  \\\n",
       "0      587   Lebanon      US     76.21           clear sky  36.2081  -86.2911   \n",
       "1      122  Riverton      US     76.30           clear sky  40.5219 -111.9391   \n",
       "2      324   Pahrump      US     83.84     overcast clouds  36.2083 -115.9839   \n",
       "3      398     Butte      US     79.39           clear sky  39.6499 -121.5677   \n",
       "\n",
       "                          Hotel Name  \n",
       "0       Hampton Inn & Suites Lebanon  \n",
       "1           Ramada by Wyndham Draper  \n",
       "2         Best Western Pahrump Oasis  \n",
       "3  Meadowbrook Oaks Mobile Home Park  "
      ],
      "text/html": "<div>\n<style scoped>\n    .dataframe tbody tr th:only-of-type {\n        vertical-align: middle;\n    }\n\n    .dataframe tbody tr th {\n        vertical-align: top;\n    }\n\n    .dataframe thead th {\n        text-align: right;\n    }\n</style>\n<table border=\"1\" class=\"dataframe\">\n  <thead>\n    <tr style=\"text-align: right;\">\n      <th></th>\n      <th>City_ID</th>\n      <th>City</th>\n      <th>Country</th>\n      <th>Max Temp</th>\n      <th>Current Description</th>\n      <th>Lat</th>\n      <th>Lng</th>\n      <th>Hotel Name</th>\n    </tr>\n  </thead>\n  <tbody>\n    <tr>\n      <th>0</th>\n      <td>587</td>\n      <td>Lebanon</td>\n      <td>US</td>\n      <td>76.21</td>\n      <td>clear sky</td>\n      <td>36.2081</td>\n      <td>-86.2911</td>\n      <td>Hampton Inn &amp; Suites Lebanon</td>\n    </tr>\n    <tr>\n      <th>1</th>\n      <td>122</td>\n      <td>Riverton</td>\n      <td>US</td>\n      <td>76.30</td>\n      <td>clear sky</td>\n      <td>40.5219</td>\n      <td>-111.9391</td>\n      <td>Ramada by Wyndham Draper</td>\n    </tr>\n    <tr>\n      <th>2</th>\n      <td>324</td>\n      <td>Pahrump</td>\n      <td>US</td>\n      <td>83.84</td>\n      <td>overcast clouds</td>\n      <td>36.2083</td>\n      <td>-115.9839</td>\n      <td>Best Western Pahrump Oasis</td>\n    </tr>\n    <tr>\n      <th>3</th>\n      <td>398</td>\n      <td>Butte</td>\n      <td>US</td>\n      <td>79.39</td>\n      <td>clear sky</td>\n      <td>39.6499</td>\n      <td>-121.5677</td>\n      <td>Meadowbrook Oaks Mobile Home Park</td>\n    </tr>\n  </tbody>\n</table>\n</div>"
     },
     "metadata": {},
     "execution_count": 47
    }
   ],
   "source": [
    "# 8. To create a marker layer map between the four cities.\n",
    "#  Combine the four city DataFrames into one DataFrame using the concat() function.\n",
    "itinerary_df = pd.concat([vacation_start, vacation_stop1, vacation_stop2, vacation_stop3],ignore_index=True)\n",
    "itinerary_df"
   ]
  },
  {
   "cell_type": "code",
   "execution_count": 51,
   "metadata": {},
   "outputs": [],
   "source": [
    "# 9 Using the template add city name, the country code, the weather description and maximum temperature for the city. \n",
    "info_box_template = \"\"\"\n",
    "<dl>\n",
    "<dt>Hotel Name</dt><dd>{Hotel Name}</dd>\n",
    "<dt>Current Description</dt><dd>{Current Description}</dd>\n",
    "<dt>City</dt><dd>{City}</dd>\n",
    "<dt>Country</dt><dd>{Country}</dd>\n",
    "<dt>Max Temp</dt><dd>{Max Temp}</dd>\n",
    "</dl>\n",
    "\"\"\"\n",
    "\n",
    "# 10a Get the data from each row and add it to the formatting template and store the data in a list.\n",
    "hotel_info = [info_box_template.format(**row) for index, row in itinerary_df.iterrows()]\n",
    "\n",
    "# 10b. Get the latitude and longitude from each row and store in a new DataFrame.\n",
    "locations = itinerary_df[[\"Lat\", \"Lng\"]]"
   ]
  },
  {
   "cell_type": "code",
   "execution_count": 79,
   "metadata": {},
   "outputs": [
    {
     "output_type": "display_data",
     "data": {
      "text/plain": "Figure(layout=FigureLayout(height='420px'))",
      "application/vnd.jupyter.widget-view+json": {
       "version_major": 2,
       "version_minor": 0,
       "model_id": "df5928aa243e4049bc60772f682f4a41"
      }
     },
     "metadata": {}
    }
   ],
   "source": [
    "# 11a. Add a marker layer for each city to the map.\n",
    "fig = gmaps.figure(center=(38.0, -100.0), zoom_level=4)\n",
    "marker_layer = gmaps.marker_layer(locations, info_box_content=hotel_info)\n",
    "fig.add_layer(marker_layer)\n",
    "# 11b. Display the figure\n",
    "fig"
   ]
  },
  {
   "cell_type": "code",
   "execution_count": null,
   "metadata": {},
   "outputs": [],
   "source": []
  }
 ],
 "metadata": {
  "kernelspec": {
   "name": "python3",
   "display_name": "Python 3.8.10 64-bit ('PyData': conda)"
  },
  "language_info": {
   "codemirror_mode": {
    "name": "ipython",
    "version": 3
   },
   "file_extension": ".py",
   "mimetype": "text/x-python",
   "name": "python",
   "nbconvert_exporter": "python",
   "pygments_lexer": "ipython3",
   "version": "3.8.10"
  },
  "latex_envs": {
   "LaTeX_envs_menu_present": true,
   "autoclose": false,
   "autocomplete": true,
   "bibliofile": "biblio.bib",
   "cite_by": "apalike",
   "current_citInitial": 1,
   "eqLabelWithNumbers": true,
   "eqNumInitial": 1,
   "hotkeys": {
    "equation": "Ctrl-E",
    "itemize": "Ctrl-I"
   },
   "labels_anchors": false,
   "latex_user_defs": false,
   "report_style_numbering": false,
   "user_envs_cfg": false
  },
  "interpreter": {
   "hash": "b564fd91cc81846f6d7b9bd156ea0c4320f8ca48459543703d331263ed624474"
  }
 },
 "nbformat": 4,
 "nbformat_minor": 2
}