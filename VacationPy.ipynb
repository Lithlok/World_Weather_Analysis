{
 "metadata": {
  "language_info": {
   "codemirror_mode": {
    "name": "ipython",
    "version": 3
   },
   "file_extension": ".py",
   "mimetype": "text/x-python",
   "name": "python",
   "nbconvert_exporter": "python",
   "pygments_lexer": "ipython3",
   "version": "3.8.10"
  },
  "orig_nbformat": 4,
  "kernelspec": {
   "name": "python3",
   "display_name": "Python 3.8.10 64-bit ('PyData': conda)"
  },
  "interpreter": {
   "hash": "b564fd91cc81846f6d7b9bd156ea0c4320f8ca48459543703d331263ed624474"
  }
 },
 "nbformat": 4,
 "nbformat_minor": 2,
 "cells": [
  {
   "cell_type": "code",
   "execution_count": 1,
   "metadata": {},
   "outputs": [],
   "source": [
    "# Import the dependencies.\n",
    "import pandas as pd\n",
    "import gmaps\n",
    "import requests\n",
    "# Import the API key.\n",
    "from config import g_key"
   ]
  },
  {
   "cell_type": "code",
   "execution_count": 2,
   "metadata": {},
   "outputs": [
    {
     "output_type": "execute_result",
     "data": {
      "text/plain": [
       "   City_ID       City Country                 Date      Lat       Lng  \\\n",
       "0        0      Ginir      ET  2021-07-23 21:48:27   7.1333   40.7000   \n",
       "1        1  Mahebourg      MU  2021-07-23 21:48:28 -20.4081   57.7000   \n",
       "2        2      Pisco      PE  2021-07-23 21:44:38 -13.7000  -76.2167   \n",
       "3        3    Rikitea      PF  2021-07-23 21:44:11 -23.1203 -134.9692   \n",
       "4        4    Kavieng      PG  2021-07-23 21:48:28  -2.5744  150.7967   \n",
       "\n",
       "   Max Temp  Humidity  Cloudiness  Wind Speed  \n",
       "0     59.54        78          72       12.12  \n",
       "1     68.29        83          75        5.75  \n",
       "2     64.45        72          40       17.27  \n",
       "3     71.35        60          88       13.35  \n",
       "4     82.80        78          15       15.21  "
      ],
      "text/html": "<div>\n<style scoped>\n    .dataframe tbody tr th:only-of-type {\n        vertical-align: middle;\n    }\n\n    .dataframe tbody tr th {\n        vertical-align: top;\n    }\n\n    .dataframe thead th {\n        text-align: right;\n    }\n</style>\n<table border=\"1\" class=\"dataframe\">\n  <thead>\n    <tr style=\"text-align: right;\">\n      <th></th>\n      <th>City_ID</th>\n      <th>City</th>\n      <th>Country</th>\n      <th>Date</th>\n      <th>Lat</th>\n      <th>Lng</th>\n      <th>Max Temp</th>\n      <th>Humidity</th>\n      <th>Cloudiness</th>\n      <th>Wind Speed</th>\n    </tr>\n  </thead>\n  <tbody>\n    <tr>\n      <th>0</th>\n      <td>0</td>\n      <td>Ginir</td>\n      <td>ET</td>\n      <td>2021-07-23 21:48:27</td>\n      <td>7.1333</td>\n      <td>40.7000</td>\n      <td>59.54</td>\n      <td>78</td>\n      <td>72</td>\n      <td>12.12</td>\n    </tr>\n    <tr>\n      <th>1</th>\n      <td>1</td>\n      <td>Mahebourg</td>\n      <td>MU</td>\n      <td>2021-07-23 21:48:28</td>\n      <td>-20.4081</td>\n      <td>57.7000</td>\n      <td>68.29</td>\n      <td>83</td>\n      <td>75</td>\n      <td>5.75</td>\n    </tr>\n    <tr>\n      <th>2</th>\n      <td>2</td>\n      <td>Pisco</td>\n      <td>PE</td>\n      <td>2021-07-23 21:44:38</td>\n      <td>-13.7000</td>\n      <td>-76.2167</td>\n      <td>64.45</td>\n      <td>72</td>\n      <td>40</td>\n      <td>17.27</td>\n    </tr>\n    <tr>\n      <th>3</th>\n      <td>3</td>\n      <td>Rikitea</td>\n      <td>PF</td>\n      <td>2021-07-23 21:44:11</td>\n      <td>-23.1203</td>\n      <td>-134.9692</td>\n      <td>71.35</td>\n      <td>60</td>\n      <td>88</td>\n      <td>13.35</td>\n    </tr>\n    <tr>\n      <th>4</th>\n      <td>4</td>\n      <td>Kavieng</td>\n      <td>PG</td>\n      <td>2021-07-23 21:48:28</td>\n      <td>-2.5744</td>\n      <td>150.7967</td>\n      <td>82.80</td>\n      <td>78</td>\n      <td>15</td>\n      <td>15.21</td>\n    </tr>\n  </tbody>\n</table>\n</div>"
     },
     "metadata": {},
     "execution_count": 2
    }
   ],
   "source": [
    "# Store the CSV you saved created in part one into a DataFrame.\n",
    "city_data_df = pd.read_csv(\"weather_data/cities.csv\")\n",
    "city_data_df.head()"
   ]
  },
  {
   "cell_type": "code",
   "execution_count": 3,
   "metadata": {},
   "outputs": [],
   "source": [
    "# Configure gmaps to use your Google API key.\n",
    "gmaps.configure(api_key=g_key)"
   ]
  },
  {
   "cell_type": "code",
   "execution_count": 8,
   "metadata": {},
   "outputs": [],
   "source": [
    "# Get the maximum temperature.\n",
    "max_temp = city_data_df[\"Max Temp\"]\n",
    "temps = []\n",
    "for temp in max_temp:\n",
    "    temps.append(max(temp, 0))"
   ]
  },
  {
   "cell_type": "code",
   "execution_count": 13,
   "metadata": {},
   "outputs": [
    {
     "output_type": "display_data",
     "data": {
      "text/plain": "Figure(layout=FigureLayout(height='420px'))",
      "application/vnd.jupyter.widget-view+json": {
       "version_major": 2,
       "version_minor": 0,
       "model_id": "b0c43db4c4564df98578b8d765115989"
      }
     },
     "metadata": {}
    }
   ],
   "source": [
    "# Heatmap of temperature\n",
    "# Get the latitude and longitude.\n",
    "locations = city_data_df[[\"Lat\", \"Lng\"]]\n",
    "# Get the maximum temperature.\n",
    "max_temp = city_data_df[\"Max Temp\"]\n",
    "# Assign the figure variable.\n",
    "fig = gmaps.figure(center=(30.0, 31.0), zoom_level=1.5)\n",
    "# Assign the heatmap variable.\n",
    "heat_layer = gmaps.heatmap_layer(locations, weights=temps, dissipating=False, max_intensity=300, point_radius=4)\n",
    "# Add the heatmap layer.\n",
    "fig.add_layer(heat_layer)\n",
    "# Call the figure to plot the data.\n",
    "fig"
   ]
  },
  {
   "cell_type": "code",
   "execution_count": 14,
   "metadata": {},
   "outputs": [
    {
     "output_type": "display_data",
     "data": {
      "text/plain": "Figure(layout=FigureLayout(height='420px'))",
      "application/vnd.jupyter.widget-view+json": {
       "version_major": 2,
       "version_minor": 0,
       "model_id": "43a7f32fcc184e3083ea181ac0b3e55e"
      }
     },
     "metadata": {}
    }
   ],
   "source": [
    "# Heatmap of percent humidity\n",
    "locations = city_data_df[[\"Lat\", \"Lng\"]]\n",
    "humidity = city_data_df[\"Humidity\"]\n",
    "fig = gmaps.figure(center=(30.0, 31.0), zoom_level=1.5)\n",
    "heat_layer = gmaps.heatmap_layer(locations, weights=humidity, dissipating=False, max_intensity=300, point_radius=4)\n",
    "\n",
    "fig.add_layer(heat_layer)\n",
    "# Call the figure to plot the data.\n",
    "fig"
   ]
  },
  {
   "cell_type": "code",
   "execution_count": 15,
   "metadata": {},
   "outputs": [
    {
     "output_type": "display_data",
     "data": {
      "text/plain": "Figure(layout=FigureLayout(height='420px'))",
      "application/vnd.jupyter.widget-view+json": {
       "version_major": 2,
       "version_minor": 0,
       "model_id": "0572aed5ad964e98b0a34ce2fff1f412"
      }
     },
     "metadata": {}
    }
   ],
   "source": [
    "# Heatmap of percent cloudiness\n",
    "locations = city_data_df[[\"Lat\", \"Lng\"]]\n",
    "clouds = city_data_df[\"Cloudiness\"]\n",
    "fig = gmaps.figure(center=(30.0, 31.0), zoom_level=1.5)\n",
    "heat_layer = gmaps.heatmap_layer(locations, weights=clouds, dissipating=False, max_intensity=300, point_radius=4)\n",
    "\n",
    "fig.add_layer(heat_layer)\n",
    "# Call the figure to plot the data.\n",
    "fig"
   ]
  },
  {
   "cell_type": "code",
   "execution_count": 16,
   "metadata": {},
   "outputs": [
    {
     "output_type": "display_data",
     "data": {
      "text/plain": "Figure(layout=FigureLayout(height='420px'))",
      "application/vnd.jupyter.widget-view+json": {
       "version_major": 2,
       "version_minor": 0,
       "model_id": "a21e0ac91cb14e40befc29dd2bf5e1b8"
      }
     },
     "metadata": {}
    }
   ],
   "source": [
    "# Heatmap of percent wind speed\n",
    "locations = city_data_df[[\"Lat\", \"Lng\"]]\n",
    "wind = city_data_df[\"Wind Speed\"]\n",
    "fig = gmaps.figure(center=(30.0, 31.0), zoom_level=1.5)\n",
    "heat_layer = gmaps.heatmap_layer(locations, weights=wind, dissipating=False, max_intensity=300, point_radius=4)\n",
    "\n",
    "fig.add_layer(heat_layer)\n",
    "# Call the figure to plot the data.\n",
    "fig"
   ]
  },
  {
   "cell_type": "code",
   "execution_count": 18,
   "metadata": {},
   "outputs": [],
   "source": [
    "# Ask the customer to add a minimum and maximum temperature value.\n",
    "min_temp = float(input(\"What is the minimum temperature you would like for your trip? \"))\n",
    "max_temp = float(input(\"What is the maximum temperature you would like for your trip? \"))"
   ]
  },
  {
   "cell_type": "code",
   "execution_count": 19,
   "metadata": {},
   "outputs": [
    {
     "output_type": "execute_result",
     "data": {
      "text/plain": [
       "    City_ID            City Country                 Date      Lat       Lng  \\\n",
       "4         4         Kavieng      PG  2021-07-23 21:48:28  -2.5744  150.7967   \n",
       "9         9          Atuona      PF  2021-07-23 21:48:30  -9.8000 -139.0333   \n",
       "10       10             Gat      IL  2021-07-23 21:45:12  31.6100   34.7642   \n",
       "13       13           Fukue      JP  2021-07-23 21:48:30  32.6881  128.8419   \n",
       "15       15         Odweyne      SO  2021-07-23 21:48:31   9.4092   45.0640   \n",
       "18       18         Isangel      VU  2021-07-23 21:48:32 -19.5500  169.2667   \n",
       "19       19          Quincy      US  2021-07-23 21:45:04  42.2529  -71.0023   \n",
       "23       23  Preobrazheniye      RU  2021-07-23 21:48:33  42.9019  133.9064   \n",
       "25       25         Chapais      CA  2021-07-23 21:48:33  49.7834  -74.8492   \n",
       "27       27          Abeche      TD  2021-07-23 21:48:34  13.8292   20.8324   \n",
       "\n",
       "    Max Temp  Humidity  Cloudiness  Wind Speed  \n",
       "4      82.80        78          15       15.21  \n",
       "9      77.32        76          40       11.41  \n",
       "10     81.28       100          44       10.20  \n",
       "13     79.74        79         100       12.26  \n",
       "15     75.07        50          99       12.77  \n",
       "18     77.11        94          40        0.00  \n",
       "19     79.25        61          75        1.99  \n",
       "23     77.14        88          29        4.76  \n",
       "25     78.58        30          70        5.70  \n",
       "27     82.22        57          98        8.14  "
      ],
      "text/html": "<div>\n<style scoped>\n    .dataframe tbody tr th:only-of-type {\n        vertical-align: middle;\n    }\n\n    .dataframe tbody tr th {\n        vertical-align: top;\n    }\n\n    .dataframe thead th {\n        text-align: right;\n    }\n</style>\n<table border=\"1\" class=\"dataframe\">\n  <thead>\n    <tr style=\"text-align: right;\">\n      <th></th>\n      <th>City_ID</th>\n      <th>City</th>\n      <th>Country</th>\n      <th>Date</th>\n      <th>Lat</th>\n      <th>Lng</th>\n      <th>Max Temp</th>\n      <th>Humidity</th>\n      <th>Cloudiness</th>\n      <th>Wind Speed</th>\n    </tr>\n  </thead>\n  <tbody>\n    <tr>\n      <th>4</th>\n      <td>4</td>\n      <td>Kavieng</td>\n      <td>PG</td>\n      <td>2021-07-23 21:48:28</td>\n      <td>-2.5744</td>\n      <td>150.7967</td>\n      <td>82.80</td>\n      <td>78</td>\n      <td>15</td>\n      <td>15.21</td>\n    </tr>\n    <tr>\n      <th>9</th>\n      <td>9</td>\n      <td>Atuona</td>\n      <td>PF</td>\n      <td>2021-07-23 21:48:30</td>\n      <td>-9.8000</td>\n      <td>-139.0333</td>\n      <td>77.32</td>\n      <td>76</td>\n      <td>40</td>\n      <td>11.41</td>\n    </tr>\n    <tr>\n      <th>10</th>\n      <td>10</td>\n      <td>Gat</td>\n      <td>IL</td>\n      <td>2021-07-23 21:45:12</td>\n      <td>31.6100</td>\n      <td>34.7642</td>\n      <td>81.28</td>\n      <td>100</td>\n      <td>44</td>\n      <td>10.20</td>\n    </tr>\n    <tr>\n      <th>13</th>\n      <td>13</td>\n      <td>Fukue</td>\n      <td>JP</td>\n      <td>2021-07-23 21:48:30</td>\n      <td>32.6881</td>\n      <td>128.8419</td>\n      <td>79.74</td>\n      <td>79</td>\n      <td>100</td>\n      <td>12.26</td>\n    </tr>\n    <tr>\n      <th>15</th>\n      <td>15</td>\n      <td>Odweyne</td>\n      <td>SO</td>\n      <td>2021-07-23 21:48:31</td>\n      <td>9.4092</td>\n      <td>45.0640</td>\n      <td>75.07</td>\n      <td>50</td>\n      <td>99</td>\n      <td>12.77</td>\n    </tr>\n    <tr>\n      <th>18</th>\n      <td>18</td>\n      <td>Isangel</td>\n      <td>VU</td>\n      <td>2021-07-23 21:48:32</td>\n      <td>-19.5500</td>\n      <td>169.2667</td>\n      <td>77.11</td>\n      <td>94</td>\n      <td>40</td>\n      <td>0.00</td>\n    </tr>\n    <tr>\n      <th>19</th>\n      <td>19</td>\n      <td>Quincy</td>\n      <td>US</td>\n      <td>2021-07-23 21:45:04</td>\n      <td>42.2529</td>\n      <td>-71.0023</td>\n      <td>79.25</td>\n      <td>61</td>\n      <td>75</td>\n      <td>1.99</td>\n    </tr>\n    <tr>\n      <th>23</th>\n      <td>23</td>\n      <td>Preobrazheniye</td>\n      <td>RU</td>\n      <td>2021-07-23 21:48:33</td>\n      <td>42.9019</td>\n      <td>133.9064</td>\n      <td>77.14</td>\n      <td>88</td>\n      <td>29</td>\n      <td>4.76</td>\n    </tr>\n    <tr>\n      <th>25</th>\n      <td>25</td>\n      <td>Chapais</td>\n      <td>CA</td>\n      <td>2021-07-23 21:48:33</td>\n      <td>49.7834</td>\n      <td>-74.8492</td>\n      <td>78.58</td>\n      <td>30</td>\n      <td>70</td>\n      <td>5.70</td>\n    </tr>\n    <tr>\n      <th>27</th>\n      <td>27</td>\n      <td>Abeche</td>\n      <td>TD</td>\n      <td>2021-07-23 21:48:34</td>\n      <td>13.8292</td>\n      <td>20.8324</td>\n      <td>82.22</td>\n      <td>57</td>\n      <td>98</td>\n      <td>8.14</td>\n    </tr>\n  </tbody>\n</table>\n</div>"
     },
     "metadata": {},
     "execution_count": 19
    }
   ],
   "source": [
    "# Filter the dataset to find the cities that fit the criteria.\n",
    "preferred_cities_df = city_data_df.loc[(city_data_df[\"Max Temp\"] <= max_temp) & \\\n",
    "                                       (city_data_df[\"Max Temp\"] >= min_temp)]\n",
    "preferred_cities_df.head(10)"
   ]
  },
  {
   "cell_type": "code",
   "execution_count": 20,
   "metadata": {},
   "outputs": [
    {
     "output_type": "execute_result",
     "data": {
      "text/plain": [
       "City_ID       199\n",
       "City          199\n",
       "Country       199\n",
       "Date          199\n",
       "Lat           199\n",
       "Lng           199\n",
       "Max Temp      199\n",
       "Humidity      199\n",
       "Cloudiness    199\n",
       "Wind Speed    199\n",
       "dtype: int64"
      ]
     },
     "metadata": {},
     "execution_count": 20
    }
   ],
   "source": [
    "preferred_cities_df.count()"
   ]
  },
  {
   "cell_type": "code",
   "execution_count": 32,
   "metadata": {},
   "outputs": [
    {
     "output_type": "execute_result",
     "data": {
      "text/plain": [
       "              City Country  Max Temp      Lat       Lng Hotel Name\n",
       "4          Kavieng      PG     82.80  -2.5744  150.7967           \n",
       "9           Atuona      PF     77.32  -9.8000 -139.0333           \n",
       "10             Gat      IL     81.28  31.6100   34.7642           \n",
       "13           Fukue      JP     79.74  32.6881  128.8419           \n",
       "15         Odweyne      SO     75.07   9.4092   45.0640           \n",
       "18         Isangel      VU     77.11 -19.5500  169.2667           \n",
       "19          Quincy      US     79.25  42.2529  -71.0023           \n",
       "23  Preobrazheniye      RU     77.14  42.9019  133.9064           \n",
       "25         Chapais      CA     78.58  49.7834  -74.8492           \n",
       "27          Abeche      TD     82.22  13.8292   20.8324           "
      ],
      "text/html": "<div>\n<style scoped>\n    .dataframe tbody tr th:only-of-type {\n        vertical-align: middle;\n    }\n\n    .dataframe tbody tr th {\n        vertical-align: top;\n    }\n\n    .dataframe thead th {\n        text-align: right;\n    }\n</style>\n<table border=\"1\" class=\"dataframe\">\n  <thead>\n    <tr style=\"text-align: right;\">\n      <th></th>\n      <th>City</th>\n      <th>Country</th>\n      <th>Max Temp</th>\n      <th>Lat</th>\n      <th>Lng</th>\n      <th>Hotel Name</th>\n    </tr>\n  </thead>\n  <tbody>\n    <tr>\n      <th>4</th>\n      <td>Kavieng</td>\n      <td>PG</td>\n      <td>82.80</td>\n      <td>-2.5744</td>\n      <td>150.7967</td>\n      <td></td>\n    </tr>\n    <tr>\n      <th>9</th>\n      <td>Atuona</td>\n      <td>PF</td>\n      <td>77.32</td>\n      <td>-9.8000</td>\n      <td>-139.0333</td>\n      <td></td>\n    </tr>\n    <tr>\n      <th>10</th>\n      <td>Gat</td>\n      <td>IL</td>\n      <td>81.28</td>\n      <td>31.6100</td>\n      <td>34.7642</td>\n      <td></td>\n    </tr>\n    <tr>\n      <th>13</th>\n      <td>Fukue</td>\n      <td>JP</td>\n      <td>79.74</td>\n      <td>32.6881</td>\n      <td>128.8419</td>\n      <td></td>\n    </tr>\n    <tr>\n      <th>15</th>\n      <td>Odweyne</td>\n      <td>SO</td>\n      <td>75.07</td>\n      <td>9.4092</td>\n      <td>45.0640</td>\n      <td></td>\n    </tr>\n    <tr>\n      <th>18</th>\n      <td>Isangel</td>\n      <td>VU</td>\n      <td>77.11</td>\n      <td>-19.5500</td>\n      <td>169.2667</td>\n      <td></td>\n    </tr>\n    <tr>\n      <th>19</th>\n      <td>Quincy</td>\n      <td>US</td>\n      <td>79.25</td>\n      <td>42.2529</td>\n      <td>-71.0023</td>\n      <td></td>\n    </tr>\n    <tr>\n      <th>23</th>\n      <td>Preobrazheniye</td>\n      <td>RU</td>\n      <td>77.14</td>\n      <td>42.9019</td>\n      <td>133.9064</td>\n      <td></td>\n    </tr>\n    <tr>\n      <th>25</th>\n      <td>Chapais</td>\n      <td>CA</td>\n      <td>78.58</td>\n      <td>49.7834</td>\n      <td>-74.8492</td>\n      <td></td>\n    </tr>\n    <tr>\n      <th>27</th>\n      <td>Abeche</td>\n      <td>TD</td>\n      <td>82.22</td>\n      <td>13.8292</td>\n      <td>20.8324</td>\n      <td></td>\n    </tr>\n  </tbody>\n</table>\n</div>"
     },
     "metadata": {},
     "execution_count": 32
    }
   ],
   "source": [
    "# Create DataFrame called hotel_df to store hotel names along with city, country, max temp, and coordinates.\n",
    "hotel_df = preferred_cities_df[[\"City\", \"Country\", \"Max Temp\", \"Lat\", \"Lng\"]].copy()\n",
    "hotel_df[\"Hotel Name\"] = \"\"\n",
    "hotel_df.head(10)"
   ]
  },
  {
   "cell_type": "code",
   "execution_count": 33,
   "metadata": {},
   "outputs": [],
   "source": [
    "# Set parameters to search for a hotel.\n",
    "params = {\n",
    "    \"radius\": 5000,\n",
    "    \"type\": \"lodging\",\n",
    "    \"key\": g_key\n",
    "}"
   ]
  },
  {
   "cell_type": "code",
   "execution_count": 37,
   "metadata": {},
   "outputs": [
    {
     "output_type": "stream",
     "name": "stdout",
     "text": [
      "Hotel not Found...skipping.\n",
      "Hotel not Found...skipping.\n",
      "Hotel not Found...skipping.\n",
      "Hotel not Found...skipping.\n",
      "Hotel not Found...skipping.\n",
      "Hotel not Found...skipping.\n",
      "Hotel not Found...skipping.\n",
      "Hotel not Found...skipping.\n",
      "Hotel not Found...skipping.\n",
      "Hotel not Found...skipping.\n",
      "Hotel not Found...skipping.\n"
     ]
    }
   ],
   "source": [
    "\n",
    "# Iterate through the DataFrame.\n",
    "for index, row in hotel_df.iterrows():\n",
    "    # Get the latitude and longitude.\n",
    "    lat = row[\"Lat\"]\n",
    "    lng = row[\"Lng\"]\n",
    "\n",
    "    # Add the latitude and longitude to location key for the params dictionary.\n",
    "    params[\"location\"] = f\"{lat},{lng}\"\n",
    "\n",
    "    # Use the search term: \"lodging\" and our latitude and longitude.\n",
    "    base_url = \"https://maps.googleapis.com/maps/api/place/nearbysearch/json\"\n",
    "    # Make request and get the JSON data from the search.\n",
    "    hotels = requests.get(base_url, params=params).json()\n",
    "    # Grab the first hotel from the results and store the name.\n",
    "    try:\n",
    "        hotel_df.loc[index, \"Hotel Name\"] = hotels[\"results\"][0][\"name\"]\n",
    "    except (IndexError):\n",
    "        print(\"Hotel not Found...skipping.\")"
   ]
  },
  {
   "cell_type": "code",
   "execution_count": 39,
   "metadata": {},
   "outputs": [
    {
     "output_type": "execute_result",
     "data": {
      "text/plain": [
       "              City Country  Max Temp      Lat       Lng  \\\n",
       "4          Kavieng      PG     82.80  -2.5744  150.7967   \n",
       "9           Atuona      PF     77.32  -9.8000 -139.0333   \n",
       "10             Gat      IL     81.28  31.6100   34.7642   \n",
       "13           Fukue      JP     79.74  32.6881  128.8419   \n",
       "15         Odweyne      SO     75.07   9.4092   45.0640   \n",
       "18         Isangel      VU     77.11 -19.5500  169.2667   \n",
       "19          Quincy      US     79.25  42.2529  -71.0023   \n",
       "23  Preobrazheniye      RU     77.14  42.9019  133.9064   \n",
       "25         Chapais      CA     78.58  49.7834  -74.8492   \n",
       "27          Abeche      TD     82.22  13.8292   20.8324   \n",
       "\n",
       "                                 Hotel Name  \n",
       "4                       Nusa Island Retreat  \n",
       "9                               Villa Enata  \n",
       "10                                 OlusHome  \n",
       "13  Goto Guesthouse Utojuku & SA Car Rental  \n",
       "15                         Eng Hiirey House  \n",
       "18                              Tanna Lodge  \n",
       "19                          Brookside House  \n",
       "23                           Campsite Orlan  \n",
       "25                           Hôtel Opémiska  \n",
       "27                   Assaleh Hamdan Haroune  "
      ],
      "text/html": "<div>\n<style scoped>\n    .dataframe tbody tr th:only-of-type {\n        vertical-align: middle;\n    }\n\n    .dataframe tbody tr th {\n        vertical-align: top;\n    }\n\n    .dataframe thead th {\n        text-align: right;\n    }\n</style>\n<table border=\"1\" class=\"dataframe\">\n  <thead>\n    <tr style=\"text-align: right;\">\n      <th></th>\n      <th>City</th>\n      <th>Country</th>\n      <th>Max Temp</th>\n      <th>Lat</th>\n      <th>Lng</th>\n      <th>Hotel Name</th>\n    </tr>\n  </thead>\n  <tbody>\n    <tr>\n      <th>4</th>\n      <td>Kavieng</td>\n      <td>PG</td>\n      <td>82.80</td>\n      <td>-2.5744</td>\n      <td>150.7967</td>\n      <td>Nusa Island Retreat</td>\n    </tr>\n    <tr>\n      <th>9</th>\n      <td>Atuona</td>\n      <td>PF</td>\n      <td>77.32</td>\n      <td>-9.8000</td>\n      <td>-139.0333</td>\n      <td>Villa Enata</td>\n    </tr>\n    <tr>\n      <th>10</th>\n      <td>Gat</td>\n      <td>IL</td>\n      <td>81.28</td>\n      <td>31.6100</td>\n      <td>34.7642</td>\n      <td>OlusHome</td>\n    </tr>\n    <tr>\n      <th>13</th>\n      <td>Fukue</td>\n      <td>JP</td>\n      <td>79.74</td>\n      <td>32.6881</td>\n      <td>128.8419</td>\n      <td>Goto Guesthouse Utojuku &amp; SA Car Rental</td>\n    </tr>\n    <tr>\n      <th>15</th>\n      <td>Odweyne</td>\n      <td>SO</td>\n      <td>75.07</td>\n      <td>9.4092</td>\n      <td>45.0640</td>\n      <td>Eng Hiirey House</td>\n    </tr>\n    <tr>\n      <th>18</th>\n      <td>Isangel</td>\n      <td>VU</td>\n      <td>77.11</td>\n      <td>-19.5500</td>\n      <td>169.2667</td>\n      <td>Tanna Lodge</td>\n    </tr>\n    <tr>\n      <th>19</th>\n      <td>Quincy</td>\n      <td>US</td>\n      <td>79.25</td>\n      <td>42.2529</td>\n      <td>-71.0023</td>\n      <td>Brookside House</td>\n    </tr>\n    <tr>\n      <th>23</th>\n      <td>Preobrazheniye</td>\n      <td>RU</td>\n      <td>77.14</td>\n      <td>42.9019</td>\n      <td>133.9064</td>\n      <td>Campsite Orlan</td>\n    </tr>\n    <tr>\n      <th>25</th>\n      <td>Chapais</td>\n      <td>CA</td>\n      <td>78.58</td>\n      <td>49.7834</td>\n      <td>-74.8492</td>\n      <td>Hôtel Opémiska</td>\n    </tr>\n    <tr>\n      <th>27</th>\n      <td>Abeche</td>\n      <td>TD</td>\n      <td>82.22</td>\n      <td>13.8292</td>\n      <td>20.8324</td>\n      <td>Assaleh Hamdan Haroune</td>\n    </tr>\n  </tbody>\n</table>\n</div>"
     },
     "metadata": {},
     "execution_count": 39
    }
   ],
   "source": [
    "hotel_df.head(10)"
   ]
  },
  {
   "cell_type": "code",
   "execution_count": 45,
   "metadata": {},
   "outputs": [
    {
     "output_type": "display_data",
     "data": {
      "text/plain": "Figure(layout=FigureLayout(height='420px'))",
      "application/vnd.jupyter.widget-view+json": {
       "version_major": 2,
       "version_minor": 0,
       "model_id": "6e729ce395764139b7459eb8ca141ce4"
      }
     },
     "metadata": {}
    }
   ],
   "source": [
    "# Add a heatmap of temperature for the vacation spots and marker for each city.\n",
    "locations = hotel_df[[\"Lat\", \"Lng\"]]\n",
    "max_temp = hotel_df[\"Max Temp\"]\n",
    "fig = gmaps.figure(center=(30.0, 31.0), zoom_level=1.5)\n",
    "heat_layer = gmaps.heatmap_layer(locations, weights=max_temp, dissipating=False,\n",
    "             max_intensity=300, point_radius=4)\n",
    "marker_layer = gmaps.marker_layer(locations, info_box_content=hotel_info)\n",
    "\n",
    "fig.add_layer(heat_layer)\n",
    "fig.add_layer(marker_layer)\n",
    "# Call the figure to plot the data.\n",
    "fig"
   ]
  },
  {
   "cell_type": "code",
   "execution_count": 44,
   "metadata": {},
   "outputs": [],
   "source": [
    "info_box_template = \"\"\"\n",
    "<dl>\n",
    "<dt>Hotel Name</dt><dd>{Hotel Name}</dd>\n",
    "<dt>City</dt><dd>{City}</dd>\n",
    "<dt>Country</dt><dd>{Country}</dd>\n",
    "<dt>Max Temp</dt><dd>{Max Temp}</dd>\n",
    "</dl>\n",
    "\"\"\"\n",
    "# Store the DataFrame Row.\n",
    "hotel_info = [info_box_template.format(**row) for index, row in hotel_df.iterrows()]"
   ]
  },
  {
   "cell_type": "code",
   "execution_count": null,
   "metadata": {},
   "outputs": [],
   "source": []
  }
 ]
}