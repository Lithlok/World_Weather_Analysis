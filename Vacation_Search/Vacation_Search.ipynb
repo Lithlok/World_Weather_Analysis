{
 "cells": [
  {
   "cell_type": "markdown",
   "metadata": {},
   "source": [
    "## Deliverable 2. Create a Customer Travel Destinations Map."
   ]
  },
  {
   "cell_type": "code",
   "execution_count": 3,
   "metadata": {},
   "outputs": [],
   "source": [
    "# Dependencies and Setup\n",
    "import pandas as pd\n",
    "import requests\n",
    "import gmaps\n",
    "\n",
    "# Import API key\n",
    "from config import g_key\n",
    "\n",
    "# Configure gmaps API key\n",
    "gmaps.configure(api_key=g_key)"
   ]
  },
  {
   "cell_type": "code",
   "execution_count": 4,
   "metadata": {},
   "outputs": [
    {
     "output_type": "execute_result",
     "data": {
      "text/plain": [
       "             City Country      Lat       Lng  Max Temp  Humidity  Cloudiness  \\\n",
       "0         Mataura      NZ -46.1927  168.8643     40.48        90          99   \n",
       "1      Butaritari      KI   3.0707  172.7902     83.59        71           0   \n",
       "2        Cherskiy      RU  68.7500  161.3000     38.55        86          63   \n",
       "3  Ribeira Grande      PT  38.5167  -28.7000     75.60        78          40   \n",
       "4          Palmer      US  42.1584  -72.3287     72.01        85          20   \n",
       "\n",
       "   Wind Speed Current Description  \n",
       "0        3.69     overcast clouds  \n",
       "1       16.89           clear sky  \n",
       "2        6.67       broken clouds  \n",
       "3       19.57    scattered clouds  \n",
       "4        0.00          few clouds  "
      ],
      "text/html": "<div>\n<style scoped>\n    .dataframe tbody tr th:only-of-type {\n        vertical-align: middle;\n    }\n\n    .dataframe tbody tr th {\n        vertical-align: top;\n    }\n\n    .dataframe thead th {\n        text-align: right;\n    }\n</style>\n<table border=\"1\" class=\"dataframe\">\n  <thead>\n    <tr style=\"text-align: right;\">\n      <th></th>\n      <th>City</th>\n      <th>Country</th>\n      <th>Lat</th>\n      <th>Lng</th>\n      <th>Max Temp</th>\n      <th>Humidity</th>\n      <th>Cloudiness</th>\n      <th>Wind Speed</th>\n      <th>Current Description</th>\n    </tr>\n  </thead>\n  <tbody>\n    <tr>\n      <th>0</th>\n      <td>Mataura</td>\n      <td>NZ</td>\n      <td>-46.1927</td>\n      <td>168.8643</td>\n      <td>40.48</td>\n      <td>90</td>\n      <td>99</td>\n      <td>3.69</td>\n      <td>overcast clouds</td>\n    </tr>\n    <tr>\n      <th>1</th>\n      <td>Butaritari</td>\n      <td>KI</td>\n      <td>3.0707</td>\n      <td>172.7902</td>\n      <td>83.59</td>\n      <td>71</td>\n      <td>0</td>\n      <td>16.89</td>\n      <td>clear sky</td>\n    </tr>\n    <tr>\n      <th>2</th>\n      <td>Cherskiy</td>\n      <td>RU</td>\n      <td>68.7500</td>\n      <td>161.3000</td>\n      <td>38.55</td>\n      <td>86</td>\n      <td>63</td>\n      <td>6.67</td>\n      <td>broken clouds</td>\n    </tr>\n    <tr>\n      <th>3</th>\n      <td>Ribeira Grande</td>\n      <td>PT</td>\n      <td>38.5167</td>\n      <td>-28.7000</td>\n      <td>75.60</td>\n      <td>78</td>\n      <td>40</td>\n      <td>19.57</td>\n      <td>scattered clouds</td>\n    </tr>\n    <tr>\n      <th>4</th>\n      <td>Palmer</td>\n      <td>US</td>\n      <td>42.1584</td>\n      <td>-72.3287</td>\n      <td>72.01</td>\n      <td>85</td>\n      <td>20</td>\n      <td>0.00</td>\n      <td>few clouds</td>\n    </tr>\n  </tbody>\n</table>\n</div>"
     },
     "metadata": {},
     "execution_count": 4
    }
   ],
   "source": [
    "# 1. Import the WeatherPy_database.csv file. \n",
    "city_data_df = pd.read_csv(\"../Weather_Database/WeatherPy_database.csv\")\n",
    "city_data_df.head()"
   ]
  },
  {
   "cell_type": "code",
   "execution_count": 5,
   "metadata": {},
   "outputs": [],
   "source": [
    "# 2. Prompt the user to enter minimum and maximum temperature criteria \n",
    "min_temp = float(input(\"What is the minimum temperature you would like for your trip? \"))\n",
    "max_temp = float(input(\"What is the maximum temperature you would like for your trip? \"))"
   ]
  },
  {
   "cell_type": "code",
   "execution_count": 6,
   "metadata": {},
   "outputs": [
    {
     "output_type": "execute_result",
     "data": {
      "text/plain": [
       "               City Country      Lat       Lng  Max Temp  Humidity  \\\n",
       "1        Butaritari      KI   3.0707  172.7902     83.59        71   \n",
       "3    Ribeira Grande      PT  38.5167  -28.7000     75.60        78   \n",
       "6          Souillac      MU -20.5167   57.5167     75.58        60   \n",
       "7             Kapaa      US  22.0752 -159.3190     79.12        83   \n",
       "13        Berezovyy      RU  51.6667  135.7000     76.55        68   \n",
       "15           Kailua      US  21.4022 -157.7394     78.78        76   \n",
       "17  Bambous Virieux      MU -20.3428   57.7575     75.45        60   \n",
       "19          Roswell      US  34.0232  -84.3616     76.39        93   \n",
       "24           Atuona      PF  -9.8000 -139.0333     77.68        70   \n",
       "39          Itarema      BR  -2.9248  -39.9167     85.48        48   \n",
       "\n",
       "    Cloudiness  Wind Speed Current Description  \n",
       "1            0       16.89           clear sky  \n",
       "3           40       19.57    scattered clouds  \n",
       "6           40        8.05    scattered clouds  \n",
       "7           90        4.00          light rain  \n",
       "13          18        3.60          few clouds  \n",
       "15          75       11.50       broken clouds  \n",
       "17          40        8.05    scattered clouds  \n",
       "19           1        0.00                mist  \n",
       "24          97       15.14     overcast clouds  \n",
       "39          65       15.03       broken clouds  "
      ],
      "text/html": "<div>\n<style scoped>\n    .dataframe tbody tr th:only-of-type {\n        vertical-align: middle;\n    }\n\n    .dataframe tbody tr th {\n        vertical-align: top;\n    }\n\n    .dataframe thead th {\n        text-align: right;\n    }\n</style>\n<table border=\"1\" class=\"dataframe\">\n  <thead>\n    <tr style=\"text-align: right;\">\n      <th></th>\n      <th>City</th>\n      <th>Country</th>\n      <th>Lat</th>\n      <th>Lng</th>\n      <th>Max Temp</th>\n      <th>Humidity</th>\n      <th>Cloudiness</th>\n      <th>Wind Speed</th>\n      <th>Current Description</th>\n    </tr>\n  </thead>\n  <tbody>\n    <tr>\n      <th>1</th>\n      <td>Butaritari</td>\n      <td>KI</td>\n      <td>3.0707</td>\n      <td>172.7902</td>\n      <td>83.59</td>\n      <td>71</td>\n      <td>0</td>\n      <td>16.89</td>\n      <td>clear sky</td>\n    </tr>\n    <tr>\n      <th>3</th>\n      <td>Ribeira Grande</td>\n      <td>PT</td>\n      <td>38.5167</td>\n      <td>-28.7000</td>\n      <td>75.60</td>\n      <td>78</td>\n      <td>40</td>\n      <td>19.57</td>\n      <td>scattered clouds</td>\n    </tr>\n    <tr>\n      <th>6</th>\n      <td>Souillac</td>\n      <td>MU</td>\n      <td>-20.5167</td>\n      <td>57.5167</td>\n      <td>75.58</td>\n      <td>60</td>\n      <td>40</td>\n      <td>8.05</td>\n      <td>scattered clouds</td>\n    </tr>\n    <tr>\n      <th>7</th>\n      <td>Kapaa</td>\n      <td>US</td>\n      <td>22.0752</td>\n      <td>-159.3190</td>\n      <td>79.12</td>\n      <td>83</td>\n      <td>90</td>\n      <td>4.00</td>\n      <td>light rain</td>\n    </tr>\n    <tr>\n      <th>13</th>\n      <td>Berezovyy</td>\n      <td>RU</td>\n      <td>51.6667</td>\n      <td>135.7000</td>\n      <td>76.55</td>\n      <td>68</td>\n      <td>18</td>\n      <td>3.60</td>\n      <td>few clouds</td>\n    </tr>\n    <tr>\n      <th>15</th>\n      <td>Kailua</td>\n      <td>US</td>\n      <td>21.4022</td>\n      <td>-157.7394</td>\n      <td>78.78</td>\n      <td>76</td>\n      <td>75</td>\n      <td>11.50</td>\n      <td>broken clouds</td>\n    </tr>\n    <tr>\n      <th>17</th>\n      <td>Bambous Virieux</td>\n      <td>MU</td>\n      <td>-20.3428</td>\n      <td>57.7575</td>\n      <td>75.45</td>\n      <td>60</td>\n      <td>40</td>\n      <td>8.05</td>\n      <td>scattered clouds</td>\n    </tr>\n    <tr>\n      <th>19</th>\n      <td>Roswell</td>\n      <td>US</td>\n      <td>34.0232</td>\n      <td>-84.3616</td>\n      <td>76.39</td>\n      <td>93</td>\n      <td>1</td>\n      <td>0.00</td>\n      <td>mist</td>\n    </tr>\n    <tr>\n      <th>24</th>\n      <td>Atuona</td>\n      <td>PF</td>\n      <td>-9.8000</td>\n      <td>-139.0333</td>\n      <td>77.68</td>\n      <td>70</td>\n      <td>97</td>\n      <td>15.14</td>\n      <td>overcast clouds</td>\n    </tr>\n    <tr>\n      <th>39</th>\n      <td>Itarema</td>\n      <td>BR</td>\n      <td>-2.9248</td>\n      <td>-39.9167</td>\n      <td>85.48</td>\n      <td>48</td>\n      <td>65</td>\n      <td>15.03</td>\n      <td>broken clouds</td>\n    </tr>\n  </tbody>\n</table>\n</div>"
     },
     "metadata": {},
     "execution_count": 6
    }
   ],
   "source": [
    "# 3. Filter the city_data_df DataFrame using the input statements to create a new DataFrame using the loc method.\n",
    "preferred_cities_df = city_data_df.loc[(city_data_df[\"Max Temp\"] <= max_temp) & \\\n",
    "                                       (city_data_df[\"Max Temp\"] >= min_temp)]\n",
    "preferred_cities_df.head(10)"
   ]
  },
  {
   "cell_type": "code",
   "execution_count": 15,
   "metadata": {},
   "outputs": [
    {
     "output_type": "execute_result",
     "data": {
      "text/plain": [
       "City                   0\n",
       "Country                1\n",
       "Lat                    0\n",
       "Lng                    0\n",
       "Max Temp               0\n",
       "Humidity               0\n",
       "Cloudiness             0\n",
       "Wind Speed             0\n",
       "Current Description    0\n",
       "dtype: int64"
      ]
     },
     "metadata": {},
     "execution_count": 15
    }
   ],
   "source": [
    "# 4a. Determine if there are any empty rows.\n",
    "preferred_cities_df.isnull().sum()"
   ]
  },
  {
   "cell_type": "code",
   "execution_count": 20,
   "metadata": {},
   "outputs": [
    {
     "output_type": "execute_result",
     "data": {
      "text/plain": [
       "               City Country      Lat       Lng  Max Temp  Humidity  \\\n",
       "1        Butaritari      KI   3.0707  172.7902     83.59        71   \n",
       "3    Ribeira Grande      PT  38.5167  -28.7000     75.60        78   \n",
       "6          Souillac      MU -20.5167   57.5167     75.58        60   \n",
       "7             Kapaa      US  22.0752 -159.3190     79.12        83   \n",
       "13        Berezovyy      RU  51.6667  135.7000     76.55        68   \n",
       "15           Kailua      US  21.4022 -157.7394     78.78        76   \n",
       "17  Bambous Virieux      MU -20.3428   57.7575     75.45        60   \n",
       "19          Roswell      US  34.0232  -84.3616     76.39        93   \n",
       "24           Atuona      PF  -9.8000 -139.0333     77.68        70   \n",
       "39          Itarema      BR  -2.9248  -39.9167     85.48        48   \n",
       "\n",
       "    Cloudiness  Wind Speed Current Description  \n",
       "1            0       16.89           clear sky  \n",
       "3           40       19.57    scattered clouds  \n",
       "6           40        8.05    scattered clouds  \n",
       "7           90        4.00          light rain  \n",
       "13          18        3.60          few clouds  \n",
       "15          75       11.50       broken clouds  \n",
       "17          40        8.05    scattered clouds  \n",
       "19           1        0.00                mist  \n",
       "24          97       15.14     overcast clouds  \n",
       "39          65       15.03       broken clouds  "
      ],
      "text/html": "<div>\n<style scoped>\n    .dataframe tbody tr th:only-of-type {\n        vertical-align: middle;\n    }\n\n    .dataframe tbody tr th {\n        vertical-align: top;\n    }\n\n    .dataframe thead th {\n        text-align: right;\n    }\n</style>\n<table border=\"1\" class=\"dataframe\">\n  <thead>\n    <tr style=\"text-align: right;\">\n      <th></th>\n      <th>City</th>\n      <th>Country</th>\n      <th>Lat</th>\n      <th>Lng</th>\n      <th>Max Temp</th>\n      <th>Humidity</th>\n      <th>Cloudiness</th>\n      <th>Wind Speed</th>\n      <th>Current Description</th>\n    </tr>\n  </thead>\n  <tbody>\n    <tr>\n      <th>1</th>\n      <td>Butaritari</td>\n      <td>KI</td>\n      <td>3.0707</td>\n      <td>172.7902</td>\n      <td>83.59</td>\n      <td>71</td>\n      <td>0</td>\n      <td>16.89</td>\n      <td>clear sky</td>\n    </tr>\n    <tr>\n      <th>3</th>\n      <td>Ribeira Grande</td>\n      <td>PT</td>\n      <td>38.5167</td>\n      <td>-28.7000</td>\n      <td>75.60</td>\n      <td>78</td>\n      <td>40</td>\n      <td>19.57</td>\n      <td>scattered clouds</td>\n    </tr>\n    <tr>\n      <th>6</th>\n      <td>Souillac</td>\n      <td>MU</td>\n      <td>-20.5167</td>\n      <td>57.5167</td>\n      <td>75.58</td>\n      <td>60</td>\n      <td>40</td>\n      <td>8.05</td>\n      <td>scattered clouds</td>\n    </tr>\n    <tr>\n      <th>7</th>\n      <td>Kapaa</td>\n      <td>US</td>\n      <td>22.0752</td>\n      <td>-159.3190</td>\n      <td>79.12</td>\n      <td>83</td>\n      <td>90</td>\n      <td>4.00</td>\n      <td>light rain</td>\n    </tr>\n    <tr>\n      <th>13</th>\n      <td>Berezovyy</td>\n      <td>RU</td>\n      <td>51.6667</td>\n      <td>135.7000</td>\n      <td>76.55</td>\n      <td>68</td>\n      <td>18</td>\n      <td>3.60</td>\n      <td>few clouds</td>\n    </tr>\n    <tr>\n      <th>15</th>\n      <td>Kailua</td>\n      <td>US</td>\n      <td>21.4022</td>\n      <td>-157.7394</td>\n      <td>78.78</td>\n      <td>76</td>\n      <td>75</td>\n      <td>11.50</td>\n      <td>broken clouds</td>\n    </tr>\n    <tr>\n      <th>17</th>\n      <td>Bambous Virieux</td>\n      <td>MU</td>\n      <td>-20.3428</td>\n      <td>57.7575</td>\n      <td>75.45</td>\n      <td>60</td>\n      <td>40</td>\n      <td>8.05</td>\n      <td>scattered clouds</td>\n    </tr>\n    <tr>\n      <th>19</th>\n      <td>Roswell</td>\n      <td>US</td>\n      <td>34.0232</td>\n      <td>-84.3616</td>\n      <td>76.39</td>\n      <td>93</td>\n      <td>1</td>\n      <td>0.00</td>\n      <td>mist</td>\n    </tr>\n    <tr>\n      <th>24</th>\n      <td>Atuona</td>\n      <td>PF</td>\n      <td>-9.8000</td>\n      <td>-139.0333</td>\n      <td>77.68</td>\n      <td>70</td>\n      <td>97</td>\n      <td>15.14</td>\n      <td>overcast clouds</td>\n    </tr>\n    <tr>\n      <th>39</th>\n      <td>Itarema</td>\n      <td>BR</td>\n      <td>-2.9248</td>\n      <td>-39.9167</td>\n      <td>85.48</td>\n      <td>48</td>\n      <td>65</td>\n      <td>15.03</td>\n      <td>broken clouds</td>\n    </tr>\n  </tbody>\n</table>\n</div>"
     },
     "metadata": {},
     "execution_count": 20
    }
   ],
   "source": [
    "# 4b. Drop any empty rows and create a new DataFrame that doesn’t have empty rows.\n",
    "clean_df = preferred_cities_df.dropna()\n",
    "clean_df.head(10)\n",
    "# clean_df.isnull().sum()"
   ]
  },
  {
   "cell_type": "code",
   "execution_count": 21,
   "metadata": {},
   "outputs": [
    {
     "output_type": "execute_result",
     "data": {
      "text/plain": [
       "               City Country  Max Temp Current Description      Lat       Lng  \\\n",
       "1        Butaritari      KI     83.59           clear sky   3.0707  172.7902   \n",
       "3    Ribeira Grande      PT     75.60    scattered clouds  38.5167  -28.7000   \n",
       "6          Souillac      MU     75.58    scattered clouds -20.5167   57.5167   \n",
       "7             Kapaa      US     79.12          light rain  22.0752 -159.3190   \n",
       "13        Berezovyy      RU     76.55          few clouds  51.6667  135.7000   \n",
       "15           Kailua      US     78.78       broken clouds  21.4022 -157.7394   \n",
       "17  Bambous Virieux      MU     75.45    scattered clouds -20.3428   57.7575   \n",
       "19          Roswell      US     76.39                mist  34.0232  -84.3616   \n",
       "24           Atuona      PF     77.68     overcast clouds  -9.8000 -139.0333   \n",
       "39          Itarema      BR     85.48       broken clouds  -2.9248  -39.9167   \n",
       "\n",
       "   Hotel Name  \n",
       "1              \n",
       "3              \n",
       "6              \n",
       "7              \n",
       "13             \n",
       "15             \n",
       "17             \n",
       "19             \n",
       "24             \n",
       "39             "
      ],
      "text/html": "<div>\n<style scoped>\n    .dataframe tbody tr th:only-of-type {\n        vertical-align: middle;\n    }\n\n    .dataframe tbody tr th {\n        vertical-align: top;\n    }\n\n    .dataframe thead th {\n        text-align: right;\n    }\n</style>\n<table border=\"1\" class=\"dataframe\">\n  <thead>\n    <tr style=\"text-align: right;\">\n      <th></th>\n      <th>City</th>\n      <th>Country</th>\n      <th>Max Temp</th>\n      <th>Current Description</th>\n      <th>Lat</th>\n      <th>Lng</th>\n      <th>Hotel Name</th>\n    </tr>\n  </thead>\n  <tbody>\n    <tr>\n      <th>1</th>\n      <td>Butaritari</td>\n      <td>KI</td>\n      <td>83.59</td>\n      <td>clear sky</td>\n      <td>3.0707</td>\n      <td>172.7902</td>\n      <td></td>\n    </tr>\n    <tr>\n      <th>3</th>\n      <td>Ribeira Grande</td>\n      <td>PT</td>\n      <td>75.60</td>\n      <td>scattered clouds</td>\n      <td>38.5167</td>\n      <td>-28.7000</td>\n      <td></td>\n    </tr>\n    <tr>\n      <th>6</th>\n      <td>Souillac</td>\n      <td>MU</td>\n      <td>75.58</td>\n      <td>scattered clouds</td>\n      <td>-20.5167</td>\n      <td>57.5167</td>\n      <td></td>\n    </tr>\n    <tr>\n      <th>7</th>\n      <td>Kapaa</td>\n      <td>US</td>\n      <td>79.12</td>\n      <td>light rain</td>\n      <td>22.0752</td>\n      <td>-159.3190</td>\n      <td></td>\n    </tr>\n    <tr>\n      <th>13</th>\n      <td>Berezovyy</td>\n      <td>RU</td>\n      <td>76.55</td>\n      <td>few clouds</td>\n      <td>51.6667</td>\n      <td>135.7000</td>\n      <td></td>\n    </tr>\n    <tr>\n      <th>15</th>\n      <td>Kailua</td>\n      <td>US</td>\n      <td>78.78</td>\n      <td>broken clouds</td>\n      <td>21.4022</td>\n      <td>-157.7394</td>\n      <td></td>\n    </tr>\n    <tr>\n      <th>17</th>\n      <td>Bambous Virieux</td>\n      <td>MU</td>\n      <td>75.45</td>\n      <td>scattered clouds</td>\n      <td>-20.3428</td>\n      <td>57.7575</td>\n      <td></td>\n    </tr>\n    <tr>\n      <th>19</th>\n      <td>Roswell</td>\n      <td>US</td>\n      <td>76.39</td>\n      <td>mist</td>\n      <td>34.0232</td>\n      <td>-84.3616</td>\n      <td></td>\n    </tr>\n    <tr>\n      <th>24</th>\n      <td>Atuona</td>\n      <td>PF</td>\n      <td>77.68</td>\n      <td>overcast clouds</td>\n      <td>-9.8000</td>\n      <td>-139.0333</td>\n      <td></td>\n    </tr>\n    <tr>\n      <th>39</th>\n      <td>Itarema</td>\n      <td>BR</td>\n      <td>85.48</td>\n      <td>broken clouds</td>\n      <td>-2.9248</td>\n      <td>-39.9167</td>\n      <td></td>\n    </tr>\n  </tbody>\n</table>\n</div>"
     },
     "metadata": {},
     "execution_count": 21
    }
   ],
   "source": [
    "# 5a. Create DataFrame called hotel_df to store hotel names along with city, country, max temp, and coordinates.\n",
    "hotel_df = clean_df[[\"City\", \"Country\", \"Max Temp\", \"Current Description\", \"Lat\", \"Lng\"]].copy()\n",
    "\n",
    "# 5b. Create a new column \"Hotel Name\"\n",
    "hotel_df[\"Hotel Name\"] = \"\"\n",
    "hotel_df.head(10)"
   ]
  },
  {
   "cell_type": "code",
   "execution_count": 8,
   "metadata": {},
   "outputs": [],
   "source": [
    "# 6a. Set parameters to search for hotels with 5000 meters.\n",
    "params = {\n",
    "    \"radius\": 5000,\n",
    "    \"type\": \"lodging\",\n",
    "    \"key\": g_key\n",
    "}\n",
    "\n",
    "# 6b. Iterate through the hotel DataFrame.\n",
    "for index, row in hotel_df.iterrows():\n",
    "       \n",
    "\n",
    "    # Add the latitude and longitude to location key for the params dictionary.\n",
    "    \n",
    "\n",
    "    # Use the search term: \"lodging\" and our latitude and longitude.\n",
    "    \n",
    "    # Make request and get the JSON data from the search.\n",
    "    hotels = requests.get(base_url, params=params).json()\n",
    "    # Grab the first hotel from the results and store the name.\n",
    "    try:\n",
    "        hotel_df.loc[index, \"Hotel Name\"] = hotels[\"results\"][0][\"name\"]\n",
    "    except (IndexError):\n",
    "        print(\"Hotel not Found...skipping.\")\n",
    "    # 6c. Get latitude and longitude from DataFrame\n",
    "    lat = row[\"Lat\"]\n",
    "    lng = row[\"Lng\"]\n",
    "    \n",
    "    # 6d. Set up the base URL for the Google Directions API to get JSON data.\n",
    "    params[\"location\"] = f\"{lat},{lng}\"\n",
    "    base_url = \"https://maps.googleapis.com/maps/api/place/nearbysearch/json\"\n",
    "    # 6e. Make request and retrieve the JSON data from the search. \n",
    "   \n",
    "    \n",
    "    # 6f. Get the first hotel from the results and store the name, if a hotel isn't found skip the city.\n",
    "    \n",
    "        "
   ]
  },
  {
   "cell_type": "code",
   "execution_count": 9,
   "metadata": {},
   "outputs": [],
   "source": [
    "# 7. Drop the rows where there is no Hotel Name.\n"
   ]
  },
  {
   "cell_type": "code",
   "execution_count": 10,
   "metadata": {},
   "outputs": [],
   "source": [
    "# 8a. Create the output File (CSV)\n",
    "\n",
    "# 8b. Export the City_Data into a csv\n",
    "clean_hotel_df.to_csv(output_data_file, index_label=\"City_ID\")"
   ]
  },
  {
   "cell_type": "code",
   "execution_count": 11,
   "metadata": {},
   "outputs": [],
   "source": [
    "# 9. Using the template add city name, the country code, the weather description and maximum temperature for the city.\n",
    "info_box_template = \"\"\"\n",
    "\n",
    "\"\"\"\n",
    "\n",
    "# 10a. Get the data from each row and add it to the formatting template and store the data in a list.\n",
    "hotel_info = [info_box_template.format(**row) for index, row in clean_hotel_df.iterrows()]\n",
    "\n",
    "# 10b. Get the latitude and longitude from each row and store in a new DataFrame.\n",
    "locations = clean_hotel_df[[\"Lat\", \"Lng\"]]"
   ]
  },
  {
   "cell_type": "code",
   "execution_count": 12,
   "metadata": {},
   "outputs": [],
   "source": [
    "# 11a. Add a marker layer for each city to the map. \n",
    "\n",
    "# 11b. Display the figure\n"
   ]
  },
  {
   "cell_type": "code",
   "execution_count": null,
   "metadata": {},
   "outputs": [],
   "source": []
  },
  {
   "cell_type": "code",
   "execution_count": null,
   "metadata": {},
   "outputs": [],
   "source": []
  }
 ],
 "metadata": {
  "kernelspec": {
   "name": "pythondata",
   "display_name": "Python 3.8.10 64-bit ('PyData': conda)"
  },
  "language_info": {
   "codemirror_mode": {
    "name": "ipython",
    "version": 3
   },
   "file_extension": ".py",
   "mimetype": "text/x-python",
   "name": "python",
   "nbconvert_exporter": "python",
   "pygments_lexer": "ipython3",
   "version": "3.8.10"
  },
  "latex_envs": {
   "LaTeX_envs_menu_present": true,
   "autoclose": false,
   "autocomplete": true,
   "bibliofile": "biblio.bib",
   "cite_by": "apalike",
   "current_citInitial": 1,
   "eqLabelWithNumbers": true,
   "eqNumInitial": 1,
   "hotkeys": {
    "equation": "Ctrl-E",
    "itemize": "Ctrl-I"
   },
   "labels_anchors": false,
   "latex_user_defs": false,
   "report_style_numbering": false,
   "user_envs_cfg": false
  }
 },
 "nbformat": 4,
 "nbformat_minor": 2
}