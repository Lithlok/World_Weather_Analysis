{
 "cells": [
  {
   "cell_type": "code",
   "execution_count": 4,
   "id": "c473c7a0",
   "metadata": {},
   "outputs": [],
   "source": [
    "# Import the random module.\n",
    "import random"
   ]
  },
  {
   "cell_type": "code",
   "execution_count": 6,
   "id": "0d588300",
   "metadata": {},
   "outputs": [
    {
     "data": {
      "text/plain": [
       "-46"
      ]
     },
     "execution_count": 6,
     "metadata": {},
     "output_type": "execute_result"
    }
   ],
   "source": [
    "random.randint(-90, 90)"
   ]
  },
  {
   "cell_type": "code",
   "execution_count": 7,
   "id": "1104602e",
   "metadata": {},
   "outputs": [
    {
     "data": {
      "text/plain": [
       "0.5072037461125205"
      ]
     },
     "execution_count": 7,
     "metadata": {},
     "output_type": "execute_result"
    }
   ],
   "source": [
    "random.random()"
   ]
  },
  {
   "cell_type": "code",
   "execution_count": 8,
   "id": "102d236d",
   "metadata": {},
   "outputs": [
    {
     "data": {
      "text/plain": [
       "-49.24850387287579"
      ]
     },
     "execution_count": 8,
     "metadata": {},
     "output_type": "execute_result"
    }
   ],
   "source": [
    "random_number = random.randint(-90, 89) + random.random()\n",
    "random_number"
   ]
  },
  {
   "cell_type": "code",
   "execution_count": 11,
   "id": "5ba8713f",
   "metadata": {},
   "outputs": [],
   "source": [
    "x = 1\n",
    "latitudes = []\n",
    "while x < 11:\n",
    "    random_lat = random.randint(-90, 89) + random.random()\n",
    "    latitudes.append(random_lat)\n",
    "    x +=1\n",
    "# latitudes"
   ]
  },
  {
   "cell_type": "code",
   "execution_count": 13,
   "id": "e6bda77a",
   "metadata": {},
   "outputs": [
    {
     "data": {
      "text/plain": [
       "42"
      ]
     },
     "execution_count": 13,
     "metadata": {},
     "output_type": "execute_result"
    }
   ],
   "source": [
    "random.randrange(-90, 90, step=1)"
   ]
  },
  {
   "cell_type": "code",
   "execution_count": 15,
   "id": "be5f5a18",
   "metadata": {},
   "outputs": [
    {
     "data": {
      "text/plain": [
       "66"
      ]
     },
     "execution_count": 15,
     "metadata": {},
     "output_type": "execute_result"
    }
   ],
   "source": [
    "random.randrange(-90 ,90, step=3)"
   ]
  },
  {
   "cell_type": "code",
   "execution_count": 16,
   "id": "d71084a5",
   "metadata": {},
   "outputs": [
    {
     "data": {
      "text/plain": [
       "32.83826606191148"
      ]
     },
     "execution_count": 16,
     "metadata": {},
     "output_type": "execute_result"
    }
   ],
   "source": [
    "random.uniform(-90, 90)"
   ]
  },
  {
   "cell_type": "code",
   "execution_count": 17,
   "id": "16194802",
   "metadata": {},
   "outputs": [],
   "source": [
    "# Import the NumPy module.\n",
    "import numpy as np"
   ]
  },
  {
   "cell_type": "code",
   "execution_count": 18,
   "id": "7027228a",
   "metadata": {},
   "outputs": [
    {
     "data": {
      "text/plain": [
       "-13.833632539581004"
      ]
     },
     "execution_count": 18,
     "metadata": {},
     "output_type": "execute_result"
    }
   ],
   "source": [
    "np.random.uniform(-90.000, 90.000)"
   ]
  },
  {
   "cell_type": "code",
   "execution_count": 19,
   "id": "5af03fdc",
   "metadata": {},
   "outputs": [
    {
     "data": {
      "text/plain": [
       "array([  5.94735898, -70.05682842,  32.51161914, -33.53655436,\n",
       "       -60.94342916,  15.77230075, -69.80471864,  79.82067224,\n",
       "       -70.12345136,  45.24609253, -80.15878653,  63.6149782 ,\n",
       "        50.87747817, -39.64082706, -36.59104944,   7.5153039 ,\n",
       "       -42.85859711,  16.35299144,  -8.48972263, -59.06786069,\n",
       "        -8.63682947, -13.81783813,  41.76557953, -22.43496265,\n",
       "        85.27130344, -17.03536344, -50.5779763 ,  13.1962627 ,\n",
       "       -73.76392201, -72.62162466,  21.12633498,  52.04514326,\n",
       "        35.13205974,  66.70547113,   6.30903844, -25.05636629,\n",
       "        22.73666363, -78.77001961, -73.57520699, -89.45545876,\n",
       "        86.59965024, -44.89379704,  16.50966498, -29.2529472 ,\n",
       "       -65.5408235 ,  47.60084914,  89.24149199,   2.69581588,\n",
       "        26.93110145,  49.25848687])"
      ]
     },
     "execution_count": 19,
     "metadata": {},
     "output_type": "execute_result"
    }
   ],
   "source": [
    "np.random.uniform(-90.000, 90.000, size=50)"
   ]
  },
  {
   "cell_type": "code",
   "execution_count": 20,
   "id": "827c429b",
   "metadata": {},
   "outputs": [],
   "source": [
    "# Import timeit.\n",
    "import timeit"
   ]
  },
  {
   "cell_type": "code",
   "execution_count": 21,
   "id": "22b23d8a",
   "metadata": {},
   "outputs": [
    {
     "name": "stdout",
     "output_type": "stream",
     "text": [
      "28.2 µs ± 354 ns per loop (mean ± std. dev. of 7 runs, 10000 loops each)\n"
     ]
    }
   ],
   "source": [
    "%timeit np.random.uniform(-90.000, 90.000, size=1500)"
   ]
  },
  {
   "cell_type": "code",
   "execution_count": 22,
   "id": "96956d8b",
   "metadata": {},
   "outputs": [
    {
     "name": "stdout",
     "output_type": "stream",
     "text": [
      "3.39 ms ± 128 µs per loop (mean ± std. dev. of 7 runs, 100 loops each)\n"
     ]
    }
   ],
   "source": [
    "def latitudes(size):\n",
    "    latitudes = []\n",
    "    x = 0\n",
    "    while x < (size):\n",
    "        random_lat = random.randint(-90, 90) + random.random()\n",
    "        latitudes.append(random_lat)\n",
    "        x += 1\n",
    "    return latitudes\n",
    "# Call the function with 1500.\n",
    "%timeit latitudes(1500)"
   ]
  },
  {
   "cell_type": "code",
   "execution_count": null,
   "id": "f221b013",
   "metadata": {},
   "outputs": [],
   "source": []
  }
 ],
 "metadata": {
  "kernelspec": {
   "display_name": "Pythondata",
   "language": "python",
   "name": "pythondata"
  },
  "language_info": {
   "codemirror_mode": {
    "name": "ipython",
    "version": 3
   },
   "file_extension": ".py",
   "mimetype": "text/x-python",
   "name": "python",
   "nbconvert_exporter": "python",
   "pygments_lexer": "ipython3",
   "version": "3.8.10"
  }
 },
 "nbformat": 4,
 "nbformat_minor": 5
}
